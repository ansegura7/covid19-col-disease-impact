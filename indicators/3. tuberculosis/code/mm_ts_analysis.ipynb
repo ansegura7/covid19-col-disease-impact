{
 "cells": [
  {
   "cell_type": "markdown",
   "metadata": {},
   "source": [
    "# Tuberculosis\n",
    "- **Project: Analysis of the dynamics of COVID-19 infection in Colombia**\n",
    "- **Analysis: Time Series**\n",
    "- **Data: SIVIGILA - Epidemiological period tuberculosis ratio in Colombia [2017-2020]**\n",
    "- **Created by: Andrés Segura Tinoco**\n",
    "- **Created on: August 1, 2020**"
   ]
  },
  {
   "cell_type": "code",
   "execution_count": null,
   "metadata": {},
   "outputs": [],
   "source": []
  },
  {
   "cell_type": "markdown",
   "metadata": {},
   "source": [
    "---\n",
    "End of analysis"
   ]
  }
 ],
 "metadata": {
  "kernelspec": {
   "display_name": "Python 3",
   "language": "python",
   "name": "python3"
  },
  "language_info": {
   "codemirror_mode": {
    "name": "ipython",
    "version": 3
   },
   "file_extension": ".py",
   "mimetype": "text/x-python",
   "name": "python",
   "nbconvert_exporter": "python",
   "pygments_lexer": "ipython3",
   "version": "3.7.6"
  }
 },
 "nbformat": 4,
 "nbformat_minor": 4
}
